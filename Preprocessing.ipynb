{
 "cells": [
  {
   "cell_type": "markdown",
   "id": "46e06c1e-e44a-4c14-88c1-29d4529ec3b2",
   "metadata": {},
   "source": [
    "<h1>Preprocessing by a13ksa</h1>"
   ]
  },
  {
   "cell_type": "markdown",
   "id": "5de0d0ef-90dc-4e1e-a112-2ff82535f8e5",
   "metadata": {},
   "source": [
    "Podaci su zanimljivi i korisni, dobro su sređeni i održavani, međutim potrebno je: <br>Izbaciti nepotrebne kolone  &#10004;&#65039;,  <br>Rešiti se noisy data  &#128307;, <br>Normalizovati tekstualne podatke &#10004;&#65039;,  <br> Izvršiti diskretizaciju podataka &#128307;"
   ]
  },
  {
   "cell_type": "markdown",
   "id": "f6f049e9-aed7-4120-98e9-56c7261e4b18",
   "metadata": {},
   "source": [
    "<h2>1. Čitanje podataka iz csv fajla</h2>"
   ]
  },
  {
   "cell_type": "markdown",
   "id": "c6d54ea1-5972-4578-8c8f-8b336329dfdf",
   "metadata": {},
   "source": [
    "Otvaranje podataka u pythonu korišćenjem Pandas library <br>"
   ]
  },
  {
   "cell_type": "code",
   "execution_count": 143,
   "id": "83bac811-83f8-487e-a107-b56f72de6cfb",
   "metadata": {},
   "outputs": [
    {
     "name": "stdout",
     "output_type": "stream",
     "text": [
      "[[2023 'Data DevOps Engineer' 'Data Engineering' ... 'Hybrid' 'Germany'\n",
      "  'L']\n",
      " [2023 'Data Architect' 'Data Architecture and Modeling' ... 'In-person'\n",
      "  'United States' 'M']\n",
      " [2023 'Data Architect' 'Data Architecture and Modeling' ... 'In-person'\n",
      "  'United States' 'M']\n",
      " ...\n",
      " [2021 'Principal Data Scientist' 'Data Science and Research' ...\n",
      "  'Remote' 'United States' 'L']\n",
      " [2020 'Data Scientist' 'Data Science and Research' ... 'Remote'\n",
      "  'United States' 'S']\n",
      " [2020 'Business Data Analyst' 'Data Analysis' ... 'Remote'\n",
      "  'United States' 'L']]\n"
     ]
    }
   ],
   "source": [
    "import numpy as nm\n",
    "import matplotlib.pyplot as mtp\n",
    "import pandas as pd\n",
    "\n",
    "data_set= pd.read_csv(\"jobs_in_data.csv\")\n",
    "\n",
    "sve = data_set.iloc[:,:].values # .ilos[:,:] znači svaka vrsta i svaka kolona\n",
    "print(sve)"
   ]
  },
  {
   "cell_type": "markdown",
   "id": "36828380-db4f-4459-bc61-31e530b7931a",
   "metadata": {},
   "source": [
    "Zbog ogromne količine kolona i vrsta tabela je skraćena sa ..."
   ]
  },
  {
   "cell_type": "code",
   "execution_count": 144,
   "id": "600f21d3-625a-4268-9baa-86aefa6e53ba",
   "metadata": {},
   "outputs": [
    {
     "name": "stdout",
     "output_type": "stream",
     "text": [
      "[2023 'Data DevOps Engineer' 'Data Engineering' 'EUR' 88000 95012\n",
      " 'Germany' 'Mid-level' 'Full-time' 'Hybrid' 'Germany' 'L']\n",
      "---------------------\n",
      "[ 88000 186000  81800 ... 151000 105000 100000]\n"
     ]
    }
   ],
   "source": [
    "import numpy as nm\n",
    "import matplotlib.pyplot as mtp\n",
    "import pandas as pd\n",
    "\n",
    "data_set= pd.read_csv(\"jobs_in_data.csv\")\n",
    "\n",
    "x = data_set.iloc[0,:].values # 1. vrsta\n",
    "print(x)\n",
    "\n",
    "print(\"---------------------\")\n",
    "\n",
    "x = data_set.iloc[:,4].values # 5. kolona\n",
    "print(x)"
   ]
  },
  {
   "cell_type": "markdown",
   "id": "3377b146-3b17-4ca3-a214-37acb1b409f9",
   "metadata": {},
   "source": [
    "<h2>2. Selekcija atributa</h2>"
   ]
  },
  {
   "cell_type": "code",
   "execution_count": 145,
   "id": "e3eea539-aa2b-4044-abf3-b7bfaa67430f",
   "metadata": {},
   "outputs": [
    {
     "name": "stdout",
     "output_type": "stream",
     "text": [
      "                             0       1          2\n",
      "0         Data DevOps Engineer   95012  Mid-level\n",
      "1               Data Architect  186000     Senior\n",
      "2               Data Architect   81800     Senior\n",
      "3               Data Scientist  212000     Senior\n",
      "4               Data Scientist   93300     Senior\n",
      "5               Data Scientist  130000     Senior\n",
      "6               Data Scientist  100000     Senior\n",
      "7  Machine Learning Researcher  224400  Mid-level\n"
     ]
    }
   ],
   "source": [
    "import numpy as nm\n",
    "import matplotlib.pyplot as mtp\n",
    "import pandas as pd\n",
    "data_set= pd.read_csv(\"jobs_in_data.csv\")\n",
    "\n",
    "x = pd.DataFrame(data_set.iloc[0:8,[1,5,7]].values) # Izbačene nepotrebne kolone\n",
    "\n",
    "print(x)"
   ]
  },
  {
   "cell_type": "markdown",
   "id": "e141a44d-9c95-4c0c-8740-9e674db5d7d9",
   "metadata": {},
   "source": [
    "<h2>3. Normalizacija tekstualnih podataka</h2>"
   ]
  },
  {
   "cell_type": "code",
   "execution_count": 146,
   "id": "1e3c3ec6-d48a-4e11-8f31-800e597ddc46",
   "metadata": {},
   "outputs": [
    {
     "name": "stdout",
     "output_type": "stream",
     "text": [
      "[[42 95012 2]\n",
      " [41 186000 3]\n",
      " [41 81800 3]\n",
      " ...\n",
      " [114 151000 2]\n",
      " [69 105000 0]\n",
      " [21 100000 0]]\n"
     ]
    }
   ],
   "source": [
    "import numpy as nm\n",
    "import matplotlib.pyplot as mtp\n",
    "import pandas as pd\n",
    "from sklearn.preprocessing import LabelEncoder, OneHotEncoder    \n",
    "data_set= pd.read_csv(\"jobs_in_data.csv\")\n",
    "\n",
    "x = data_set.iloc[:,[1,5,7]].values\n",
    "\n",
    "label_encoder_x= LabelEncoder()  \n",
    "\n",
    "x[:, 0]= label_encoder_x.fit_transform(x[:, 0])  # Kodiramo drugu kolonu\n",
    "\n",
    "x[:, 2]= label_encoder_x.fit_transform(x[:, 2])  # Kodiramo treću kolonu\n",
    "\n",
    "print(x)"
   ]
  },
  {
   "cell_type": "code",
   "execution_count": 147,
   "id": "f7c14727-b2ce-4a2a-92a8-8b6e548e8157",
   "metadata": {},
   "outputs": [
    {
     "name": "stdout",
     "output_type": "stream",
     "text": [
      "  (0, 42)\t1.0\n",
      "  (0, 613)\t1.0\n",
      "  (0, 1913)\t1.0\n",
      "  (1, 41)\t1.0\n",
      "  (1, 1398)\t1.0\n",
      "  (1, 1914)\t1.0\n",
      "  (2, 41)\t1.0\n",
      "  (2, 504)\t1.0\n",
      "  (2, 1914)\t1.0\n",
      "  (3, 69)\t1.0\n",
      "  (3, 1561)\t1.0\n",
      "  (3, 1914)\t1.0\n",
      "  (4, 69)\t1.0\n",
      "  (4, 593)\t1.0\n",
      "  (4, 1914)\t1.0\n",
      "  (5, 69)\t1.0\n",
      "  (5, 937)\t1.0\n",
      "  (5, 1914)\t1.0\n",
      "  (6, 69)\t1.0\n",
      "  (6, 651)\t1.0\n",
      "  (6, 1914)\t1.0\n",
      "  (7, 102)\t1.0\n",
      "  (7, 1628)\t1.0\n",
      "  (7, 1913)\t1.0\n",
      "  (8, 102)\t1.0\n",
      "  :\t:\n",
      "  (9346, 1914)\t1.0\n",
      "  (9347, 69)\t1.0\n",
      "  (9347, 837)\t1.0\n",
      "  (9347, 1913)\t1.0\n",
      "  (9348, 11)\t1.0\n",
      "  (9348, 1907)\t1.0\n",
      "  (9348, 1913)\t1.0\n",
      "  (9349, 44)\t1.0\n",
      "  (9349, 164)\t1.0\n",
      "  (9349, 1913)\t1.0\n",
      "  (9350, 71)\t1.0\n",
      "  (9350, 1239)\t1.0\n",
      "  (9350, 1914)\t1.0\n",
      "  (9351, 69)\t1.0\n",
      "  (9351, 1905)\t1.0\n",
      "  (9351, 1914)\t1.0\n",
      "  (9352, 114)\t1.0\n",
      "  (9352, 1132)\t1.0\n",
      "  (9352, 1913)\t1.0\n",
      "  (9353, 69)\t1.0\n",
      "  (9353, 692)\t1.0\n",
      "  (9353, 1911)\t1.0\n",
      "  (9354, 21)\t1.0\n",
      "  (9354, 651)\t1.0\n",
      "  (9354, 1911)\t1.0\n"
     ]
    }
   ],
   "source": [
    "import numpy as np\n",
    "import matplotlib.pyplot as mtp\n",
    "import pandas as pd\n",
    "from sklearn.preprocessing import LabelEncoder, OneHotEncoder\n",
    "from sklearn.compose import ColumnTransformer\n",
    "data_set= pd.read_csv(\"jobs_in_data.csv\")\n",
    "\n",
    "x = data_set.iloc[:,[1,5,7]].values\n",
    "\n",
    "ct = ColumnTransformer(\n",
    "    transformers=[('encoder', OneHotEncoder(), [0,1,2])],\n",
    "    remainder='passthrough'\n",
    ")\n",
    "\n",
    "x = np.array(ct.fit_transform(x))\n",
    "\n",
    "print(x)"
   ]
  },
  {
   "cell_type": "markdown",
   "id": "31271986-0e38-4a31-b8c4-06b6d6bb5c08",
   "metadata": {},
   "source": [
    "Podaci su ovakvog tipa 1.00000000e+00, 0.00000000e+00, 0.00000000e+00 te se ne vide u ovoj konzoli\n",
    "<!--\n",
    "label_encoder_x= LabelEncoder()  \n",
    "\n",
    "x[:, 0]= label_encoder_x.fit_transform(x[:, 0])  \n",
    "\n",
    "x[:, 2]= label_encoder_x.fit_transform(x[:, 2])  \n",
    "->"
   ]
  }
 ],
 "metadata": {
  "kernelspec": {
   "display_name": "Python 3 (ipykernel)",
   "language": "python",
   "name": "python3"
  },
  "language_info": {
   "codemirror_mode": {
    "name": "ipython",
    "version": 3
   },
   "file_extension": ".py",
   "mimetype": "text/x-python",
   "name": "python",
   "nbconvert_exporter": "python",
   "pygments_lexer": "ipython3",
   "version": "3.11.5"
  }
 },
 "nbformat": 4,
 "nbformat_minor": 5
}
